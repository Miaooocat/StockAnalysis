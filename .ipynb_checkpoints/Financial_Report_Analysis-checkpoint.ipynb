{
 "cells": [
  {
   "cell_type": "code",
   "execution_count": 1,
   "metadata": {},
   "outputs": [],
   "source": [
    "import pandas as pd\n",
    "from bs4 import BeautifulSoup\n",
    "import urllib.request as ur"
   ]
  },
  {
   "cell_type": "code",
   "execution_count": 2,
   "metadata": {},
   "outputs": [],
   "source": [
    "# URL link \n",
    "symbol = 'AAPL'\n",
    "url_is = 'https://finance.yahoo.com/quote/%s/financials?p=%s' %(symbol, symbol)\n",
    "url_bs = 'https://finance.yahoo.com/quote/%s/balance-sheet?p=%s' %(symbol, symbol)\n",
    "url_cf = 'https://finance.yahoo.com/quote/%s/cash-flow?p=%s' %(symbol, symbol)"
   ]
  },
  {
   "cell_type": "code",
   "execution_count": 3,
   "metadata": {},
   "outputs": [],
   "source": [
    "read_data = ur.urlopen(url_is).read() \n",
    "soup_is= BeautifulSoup(read_data,'lxml')"
   ]
  },
  {
   "cell_type": "code",
   "execution_count": 4,
   "metadata": {},
   "outputs": [],
   "source": [
    "ls= [] # Create empty list\n",
    "for l in soup_is.find_all('div'): \n",
    "  #Find all data structure that is ‘div’\n",
    "  ls.append(l.string) # add each element one by one to the list\n",
    " \n",
    "ls = [e for e in ls if e not in ('Operating Expenses','Non-recurring Events')] # Exclude those columns"
   ]
  },
  {
   "cell_type": "code",
   "execution_count": 5,
   "metadata": {},
   "outputs": [],
   "source": [
    "new_ls = list(filter(None,ls))"
   ]
  },
  {
   "cell_type": "code",
   "execution_count": 6,
   "metadata": {},
   "outputs": [],
   "source": [
    "new_ls = new_ls[12:]"
   ]
  },
  {
   "cell_type": "code",
   "execution_count": 7,
   "metadata": {},
   "outputs": [],
   "source": [
    "is_data = list(zip(*[iter(new_ls)]*6))"
   ]
  },
  {
   "cell_type": "code",
   "execution_count": 8,
   "metadata": {},
   "outputs": [],
   "source": [
    "Income_st = pd.DataFrame(is_data[0:])"
   ]
  },
  {
   "cell_type": "code",
   "execution_count": 9,
   "metadata": {},
   "outputs": [],
   "source": [
    "Income_st.columns = Income_st.iloc[0] # Name columns to first row of dataframe\n",
    "Income_st = Income_st.iloc[1:,] # start to read 1st row\n",
    "Income_st = Income_st.T # transpose dataframe\n",
    "Income_st.columns = Income_st.iloc[0] #Name columns to first row of dataframe\n",
    "Income_st.drop(Income_st.index[0],inplace=True) #Drop first index row\n",
    "Income_st.index.name = '' # Remove the index name\n",
    "#Income_st.rename(index={'ttm': '12/31/2019'},inplace=True) #Rename ttm in index columns to end of the year\n",
    "Income_st = Income_st[Income_st.columns[:-5]] # remove last 5 irrelevant columns"
   ]
  },
  {
   "cell_type": "code",
   "execution_count": 10,
   "metadata": {},
   "outputs": [
    {
     "data": {
      "text/html": [
       "<div>\n",
       "<style scoped>\n",
       "    .dataframe tbody tr th:only-of-type {\n",
       "        vertical-align: middle;\n",
       "    }\n",
       "\n",
       "    .dataframe tbody tr th {\n",
       "        vertical-align: top;\n",
       "    }\n",
       "\n",
       "    .dataframe thead th {\n",
       "        text-align: right;\n",
       "    }\n",
       "</style>\n",
       "<table border=\"1\" class=\"dataframe\">\n",
       "  <thead>\n",
       "    <tr style=\"text-align: right;\">\n",
       "      <th>Annual</th>\n",
       "      <th>482,786</th>\n",
       "      <th>106,801</th>\n",
       "      <th>301,513</th>\n",
       "      <th>52,885</th>\n",
       "      <th>Total Operating Expenses</th>\n",
       "      <th>-212,577</th>\n",
       "      <th>69,845</th>\n",
       "      <th>214</th>\n",
       "      <th>-16,393</th>\n",
       "      <th>Income from Continuing Operations</th>\n",
       "    </tr>\n",
       "    <tr>\n",
       "      <th></th>\n",
       "      <th></th>\n",
       "      <th></th>\n",
       "      <th></th>\n",
       "      <th></th>\n",
       "      <th></th>\n",
       "      <th></th>\n",
       "      <th></th>\n",
       "      <th></th>\n",
       "      <th></th>\n",
       "      <th></th>\n",
       "    </tr>\n",
       "  </thead>\n",
       "  <tbody>\n",
       "    <tr>\n",
       "      <th>ttm</th>\n",
       "      <td>430,966</td>\n",
       "      <td>96,534</td>\n",
       "      <td>304,205</td>\n",
       "      <td>Selling General and Administrative</td>\n",
       "      <td>570,500</td>\n",
       "      <td>-70,944</td>\n",
       "      <td>35,220</td>\n",
       "      <td>-11,082</td>\n",
       "      <td>Income Tax Expense</td>\n",
       "      <td>-519,189</td>\n",
       "    </tr>\n",
       "    <tr>\n",
       "      <th>3/30/2019</th>\n",
       "      <td>398,047</td>\n",
       "      <td>102,172</td>\n",
       "      <td>Research Development</td>\n",
       "      <td>415,196</td>\n",
       "      <td>395,109</td>\n",
       "      <td>-16,769</td>\n",
       "      <td>25,481</td>\n",
       "      <td>Income Before Tax</td>\n",
       "      <td>229,512</td>\n",
       "      <td>-116,194</td>\n",
       "    </tr>\n",
       "    <tr>\n",
       "      <th>3/30/2018</th>\n",
       "      <td>406,377</td>\n",
       "      <td>Gross Profit</td>\n",
       "      <td>111,428</td>\n",
       "      <td>270,664</td>\n",
       "      <td>318,282</td>\n",
       "      <td>20,170</td>\n",
       "      <td>Total Other Income/Expenses Net</td>\n",
       "      <td>-289,677</td>\n",
       "      <td>-23,717</td>\n",
       "      <td>9,222</td>\n",
       "    </tr>\n",
       "    <tr>\n",
       "      <th>3/30/2017</th>\n",
       "      <td>Cost of Revenue</td>\n",
       "      <td>357,923</td>\n",
       "      <td>76,759</td>\n",
       "      <td>209,464</td>\n",
       "      <td>284,035</td>\n",
       "      <td>Interest Expense</td>\n",
       "      <td>-1,717</td>\n",
       "      <td>-139,911</td>\n",
       "      <td>-60,997</td>\n",
       "      <td>796</td>\n",
       "    </tr>\n",
       "    <tr>\n",
       "      <th>Total Revenue</th>\n",
       "      <td>124,863</td>\n",
       "      <td>324,165</td>\n",
       "      <td>58,320</td>\n",
       "      <td>179,203</td>\n",
       "      <td>Operating Income or Loss</td>\n",
       "      <td>-</td>\n",
       "      <td>878</td>\n",
       "      <td>-51,775</td>\n",
       "      <td>-17,189</td>\n",
       "      <td>Net Income</td>\n",
       "    </tr>\n",
       "  </tbody>\n",
       "</table>\n",
       "</div>"
      ],
      "text/plain": [
       "Annual                 482,786       106,801               301,513  \\\n",
       "                                                                     \n",
       "ttm                    430,966        96,534               304,205   \n",
       "3/30/2019              398,047       102,172  Research Development   \n",
       "3/30/2018              406,377  Gross Profit               111,428   \n",
       "3/30/2017      Cost of Revenue       357,923                76,759   \n",
       "Total Revenue          124,863       324,165                58,320   \n",
       "\n",
       "Annual                                     52,885  Total Operating Expenses  \\\n",
       "                                                                              \n",
       "ttm            Selling General and Administrative                   570,500   \n",
       "3/30/2019                                 415,196                   395,109   \n",
       "3/30/2018                                 270,664                   318,282   \n",
       "3/30/2017                                 209,464                   284,035   \n",
       "Total Revenue                             179,203  Operating Income or Loss   \n",
       "\n",
       "Annual                 -212,577                           69,845  \\\n",
       "                                                                   \n",
       "ttm                     -70,944                           35,220   \n",
       "3/30/2019               -16,769                           25,481   \n",
       "3/30/2018                20,170  Total Other Income/Expenses Net   \n",
       "3/30/2017      Interest Expense                           -1,717   \n",
       "Total Revenue                 -                              878   \n",
       "\n",
       "Annual                       214             -16,393  \\\n",
       "                                                       \n",
       "ttm                      -11,082  Income Tax Expense   \n",
       "3/30/2019      Income Before Tax             229,512   \n",
       "3/30/2018               -289,677             -23,717   \n",
       "3/30/2017               -139,911             -60,997   \n",
       "Total Revenue            -51,775             -17,189   \n",
       "\n",
       "Annual        Income from Continuing Operations  \n",
       "                                                 \n",
       "ttm                                    -519,189  \n",
       "3/30/2019                              -116,194  \n",
       "3/30/2018                                 9,222  \n",
       "3/30/2017                                   796  \n",
       "Total Revenue                        Net Income  "
      ]
     },
     "execution_count": 10,
     "metadata": {},
     "output_type": "execute_result"
    }
   ],
   "source": [
    "Income_st"
   ]
  },
  {
   "cell_type": "code",
   "execution_count": null,
   "metadata": {},
   "outputs": [],
   "source": []
  }
 ],
 "metadata": {
  "kernelspec": {
   "display_name": "Python 3",
   "language": "python",
   "name": "python3"
  },
  "language_info": {
   "codemirror_mode": {
    "name": "ipython",
    "version": 3
   },
   "file_extension": ".py",
   "mimetype": "text/x-python",
   "name": "python",
   "nbconvert_exporter": "python",
   "pygments_lexer": "ipython3",
   "version": "3.6.5"
  }
 },
 "nbformat": 4,
 "nbformat_minor": 2
}
